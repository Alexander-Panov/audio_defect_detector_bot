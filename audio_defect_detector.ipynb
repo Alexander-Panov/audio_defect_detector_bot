{
 "cells": [
  {
   "cell_type": "code",
   "id": "d950fe392858560b",
   "metadata": {
    "collapsed": true,
    "ExecuteTime": {
     "end_time": "2024-08-20T04:49:28.593803Z",
     "start_time": "2024-08-20T04:49:28.591271Z"
    }
   },
   "source": [
    "import datetime\n",
    "\n",
    "from google.cloud import speech\n",
    "from difflib import SequenceMatcher"
   ],
   "outputs": [],
   "execution_count": 148
  },
  {
   "metadata": {
    "ExecuteTime": {
     "end_time": "2024-08-20T04:49:28.599619Z",
     "start_time": "2024-08-20T04:49:28.595811Z"
    }
   },
   "cell_type": "code",
   "source": [
    "audio_file_path = \"input_examples/test.wav\"\n",
    "script_text = \"\"\"\n",
    "Опрошенные называли и некоторые распространенные страхи, которые возникают в преклонном возрасте (а в случае старческой деменции могут превращаться в навязчивый бред): это боязнь нищеты, краж, потери памяти и другие тревожные ощущения. А главным проявлением старости почти все назвали потерю независимости — как в физическом, так и в ментальном смысле.\n",
    "\"\"\".strip()"
   ],
   "id": "efaed6e62a77f902",
   "outputs": [],
   "execution_count": 149
  },
  {
   "metadata": {
    "ExecuteTime": {
     "end_time": "2024-08-20T04:49:28.632423Z",
     "start_time": "2024-08-20T04:49:28.619628Z"
    }
   },
   "cell_type": "code",
   "source": [
    "client = speech.SpeechClient()\n",
    "with open(audio_file_path, \"rb\") as audio_file:\n",
    "    content = audio_file.read()\n",
    "\n",
    "audio = speech.RecognitionAudio(content=content)\n",
    "\n",
    "if audio_file_path.endswith('.wav'):\n",
    "    encoding = speech.RecognitionConfig.AudioEncoding.LINEAR16\n",
    "elif audio_file_path.endswith('.flac'):\n",
    "    encoding = speech.RecognitionConfig.AudioEncoding.FLAC\n",
    "else:\n",
    "    raise RuntimeError('Не поддерживаемый тип файла. Используйте WAV/FLAC')\n",
    "\n",
    "# noinspection PyTypeChecker\n",
    "config = speech.RecognitionConfig(\n",
    "    encoding=encoding,\n",
    "    audio_channel_count=2,\n",
    "    language_code=\"ru-RU\",\n",
    "    enable_word_time_offsets=True,\n",
    "    enable_automatic_punctuation=True,\n",
    ")"
   ],
   "id": "8ee23bd86326d7d2",
   "outputs": [],
   "execution_count": 150
  },
  {
   "metadata": {
    "ExecuteTime": {
     "end_time": "2024-08-20T04:49:33.801001Z",
     "start_time": "2024-08-20T04:49:28.634431Z"
    }
   },
   "cell_type": "code",
   "source": "response = client.recognize(config=config, audio=audio)",
   "id": "51e20142de767e3f",
   "outputs": [
    {
     "ename": "AttributeError",
     "evalue": "'SpeechClient' object has no attribute 'st'",
     "output_type": "error",
     "traceback": [
      "\u001B[1;31m---------------------------------------------------------------------------\u001B[0m",
      "\u001B[1;31mAttributeError\u001B[0m                            Traceback (most recent call last)",
      "Cell \u001B[1;32mIn[151], line 2\u001B[0m\n\u001B[0;32m      1\u001B[0m response \u001B[38;5;241m=\u001B[39m client\u001B[38;5;241m.\u001B[39mrecognize(config\u001B[38;5;241m=\u001B[39mconfig, audio\u001B[38;5;241m=\u001B[39maudio)\n\u001B[1;32m----> 2\u001B[0m \u001B[43mclient\u001B[49m\u001B[38;5;241;43m.\u001B[39;49m\u001B[43mst\u001B[49m()\n",
      "\u001B[1;31mAttributeError\u001B[0m: 'SpeechClient' object has no attribute 'st'"
     ]
    }
   ],
   "execution_count": 151
  },
  {
   "metadata": {
    "ExecuteTime": {
     "end_time": "2024-08-20T06:35:17.534826Z",
     "start_time": "2024-08-20T06:35:17.529095Z"
    }
   },
   "cell_type": "code",
   "source": "type(response.results[0])",
   "id": "1ac042c6bf0c4443",
   "outputs": [
    {
     "data": {
      "text/plain": [
       "google.cloud.speech_v1.types.cloud_speech.SpeechRecognitionResult"
      ]
     },
     "execution_count": 158,
     "metadata": {},
     "output_type": "execute_result"
    }
   ],
   "execution_count": 158
  },
  {
   "metadata": {
    "ExecuteTime": {
     "end_time": "2024-08-20T04:49:53.822039Z",
     "start_time": "2024-08-20T04:49:53.819081Z"
    }
   },
   "cell_type": "code",
   "source": "transcribed_text = response.results[0].alternatives[0].transcript",
   "id": "de032c5693f721f9",
   "outputs": [],
   "execution_count": 152
  },
  {
   "metadata": {
    "ExecuteTime": {
     "end_time": "2024-08-20T04:49:53.827316Z",
     "start_time": "2024-08-20T04:49:53.823047Z"
    }
   },
   "cell_type": "code",
   "source": "words_timestamps = response.results[0].alternatives[0].words",
   "id": "65f8eddaad09c15f",
   "outputs": [],
   "execution_count": 153
  },
  {
   "metadata": {
    "ExecuteTime": {
     "end_time": "2024-08-20T04:49:53.839076Z",
     "start_time": "2024-08-20T04:49:53.835326Z"
    }
   },
   "cell_type": "code",
   "source": [
    "transcribed_text_words = transcribed_text.split(' ')\n",
    "script_text_words = script_text.split(' ')\n",
    "\n",
    "matcher = SequenceMatcher(None, transcribed_text_words, script_text_words)\n",
    "errors: list[tuple[str, datetime.timedelta, str]] = []\n",
    "\n",
    "\n",
    "for tag, start1, end1, start2, end2 in matcher.get_opcodes():\n",
    "    if tag == 'insert':  # строка в сценарии, отсутствующая в транскрибированном тексте\n",
    "        timecode = words_timestamps[start1].start_time\n",
    "        errors.append(('потеряшка', timecode, ' '.join(script_text_words[start2:end2])))"
   ],
   "id": "247c0eda754baa2b",
   "outputs": [],
   "execution_count": 154
  },
  {
   "metadata": {
    "ExecuteTime": {
     "end_time": "2024-08-20T04:49:53.858786Z",
     "start_time": "2024-08-20T04:49:53.854086Z"
    }
   },
   "cell_type": "code",
   "source": "errors",
   "id": "9515b46fca5aa8bc",
   "outputs": [
    {
     "data": {
      "text/plain": [
       "[('потеряшка',\n",
       "  datetime.timedelta(seconds=6, microseconds=600000),\n",
       "  '(а в случае старческой деменции могут превращаться в навязчивый бред): это боязнь нищеты, краж, потери памяти и другие тревожные ощущения. А')]"
      ]
     },
     "execution_count": 155,
     "metadata": {},
     "output_type": "execute_result"
    }
   ],
   "execution_count": 155
  },
  {
   "metadata": {
    "ExecuteTime": {
     "end_time": "2024-08-20T04:49:53.871069Z",
     "start_time": "2024-08-20T04:49:53.865796Z"
    }
   },
   "cell_type": "code",
   "source": [
    "d = matcher.get_opcodes()\n",
    "d"
   ],
   "id": "19708134c3ed5b7a",
   "outputs": [
    {
     "data": {
      "text/plain": [
       "[('equal', 0, 4, 0, 4),\n",
       " ('replace', 4, 5, 4, 5),\n",
       " ('equal', 5, 11, 5, 11),\n",
       " ('insert', 11, 11, 11, 32),\n",
       " ('equal', 11, 13, 32, 34),\n",
       " ('delete', 13, 14, 34, 34),\n",
       " ('equal', 14, 17, 34, 37),\n",
       " ('replace', 17, 18, 37, 38),\n",
       " ('equal', 18, 19, 38, 39),\n",
       " ('replace', 19, 21, 39, 44),\n",
       " ('equal', 21, 22, 44, 45),\n",
       " ('replace', 22, 23, 45, 47),\n",
       " ('equal', 23, 24, 47, 48),\n",
       " ('replace', 24, 25, 48, 49)]"
      ]
     },
     "execution_count": 156,
     "metadata": {},
     "output_type": "execute_result"
    }
   ],
   "execution_count": 156
  }
 ],
 "metadata": {
  "kernelspec": {
   "display_name": "Python 3",
   "language": "python",
   "name": "python3"
  },
  "language_info": {
   "codemirror_mode": {
    "name": "ipython",
    "version": 2
   },
   "file_extension": ".py",
   "mimetype": "text/x-python",
   "name": "python",
   "nbconvert_exporter": "python",
   "pygments_lexer": "ipython2",
   "version": "2.7.6"
  }
 },
 "nbformat": 4,
 "nbformat_minor": 5
}
